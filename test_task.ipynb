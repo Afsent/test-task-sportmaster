{
 "cells": [
  {
   "cell_type": "markdown",
   "metadata": {},
   "source": [
    "## Задача 1\n",
    "В таблице Employee содержится информация по всем сотрудникам компании. \n",
    "У каждого\n",
    "сотрудника есть уникальный идентификатор Id. Также в этой таблице есть поле DepartmentId,\n",
    "которое представляет собой идентификатор департамента, в котором работает данный сотрудник.\n",
    "\n",
    "В таблице Department содержится информация по департаментам компании."
   ]
  },
  {
   "cell_type": "markdown",
   "metadata": {},
   "source": [
    "Напишите SQL запрос на Oracle SQL, который выводит сотрудников зарплаты которых входят в\n",
    "ТОП-3 зарплат по каждому департаменту."
   ]
  },
  {
   "cell_type": "markdown",
   "metadata": {},
   "source": [
    "### Описание:\n",
    "1) Соединяем две таблицы по id департамента.\n",
    "\n",
    "2) Выбираем записи, отсортированные по убыванию зарплаты для каждого департамента, присваиваем ранг зарплаты (формируем топ) и сохраняем алиас.\n",
    "\n",
    "3) Затем выбираем записи, в которых ранг зарплаты входит в ТОП-3."
   ]
  },
  {
   "cell_type": "markdown",
   "metadata": {},
   "source": [
    "```\n",
    "SELECT res.department, res.employee, res.salary\n",
    "FROM\n",
    "(SELECT\n",
    "    dep.name as department,\n",
    "    emp.name as employee,\n",
    "    emp.salary as salary,\n",
    "    DENSE_RANK() OVER (PARTITION BY dep.id ORDER BY emp.salary DESC) AS rank\n",
    "  FROM \"DEPARTMENT\" dep\n",
    "  INNER JOIN \"EMPLOYEE\" emp\n",
    "  ON dep.id = emp.department_id) res\n",
    "WHERE rank <= 3\n",
    "```"
   ]
  },
  {
   "cell_type": "markdown",
   "metadata": {},
   "source": [
    "## Задача 2\n",
    "\n",
    "Написать функцию, которая:\n",
    "\n",
    "1) принимает на вход итерируемый объект (list, tuple, np.array и т.п.) и число N - кол-во частей, на которые нужно разделить исходный итерируемый объект;\n",
    "\n",
    "2) возвращает на выходе список из N-частей исходного итерируемого объекта."
   ]
  },
  {
   "cell_type": "code",
   "execution_count": 1,
   "metadata": {},
   "outputs": [],
   "source": [
    "def slice_list(lst, size):\n",
    "    if size <= 0:\n",
    "        return []\n",
    "    \n",
    "    chunk_size = len(lst) // size\n",
    "    remain = len(lst) % size\n",
    "    result = []\n",
    "    \n",
    "    try:\n",
    "        iterator = iter(lst)\n",
    "    except TypeError:\n",
    "        return \"Invalid iterable object\"\n",
    "    \n",
    "    for i in range(size):\n",
    "        result.append([])\n",
    "        for j in range(chunk_size):\n",
    "            result[i].append(next(iterator))\n",
    "        if remain:\n",
    "            result[i].append(next(iterator))\n",
    "            remain -= 1\n",
    "            \n",
    "    return result"
   ]
  },
  {
   "cell_type": "code",
   "execution_count": 3,
   "metadata": {},
   "outputs": [
    {
     "name": "stdout",
     "output_type": "stream",
     "text": [
      "[[[1, 'a', 'b'], [2, 'c', 'd']], [[3, 'e', 'f']]]\n"
     ]
    }
   ],
   "source": [
    "lst = [[1,'a','b'],[2,'c','d'], [3,'e','f']]\n",
    "lst2 = [1, 2, 3, 4, 5, 6, 7, 8, 9]\n",
    "\n",
    "print(slice_list(lst, 2))"
   ]
  },
  {
   "cell_type": "code",
   "execution_count": 4,
   "metadata": {},
   "outputs": [
    {
     "name": "stdout",
     "output_type": "stream",
     "text": [
      "[[1, 2, 3], [4, 5], [6, 7], [8, 9]]\n"
     ]
    }
   ],
   "source": [
    "print(slice_list(lst2, 4))"
   ]
  }
 ],
 "metadata": {
  "kernelspec": {
   "display_name": "Python 3",
   "language": "python",
   "name": "python3"
  },
  "language_info": {
   "codemirror_mode": {
    "name": "ipython",
    "version": 3
   },
   "file_extension": ".py",
   "mimetype": "text/x-python",
   "name": "python",
   "nbconvert_exporter": "python",
   "pygments_lexer": "ipython3",
   "version": "3.7.3"
  }
 },
 "nbformat": 4,
 "nbformat_minor": 2
}
